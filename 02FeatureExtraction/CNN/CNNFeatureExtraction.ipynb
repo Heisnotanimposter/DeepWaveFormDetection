{
  "nbformat": 4,
  "nbformat_minor": 0,
  "metadata": {
    "colab": {
      "provenance": []
    },
    "kernelspec": {
      "name": "python3",
      "display_name": "Python 3"
    },
    "language_info": {
      "name": "python"
    }
  },
  "cells": [
    {
      "cell_type": "code",
      "source": [
        "from google.colab import drive\n",
        "drive.mount('/content/drive')\n"
      ],
      "metadata": {
        "colab": {
          "base_uri": "https://localhost:8080/"
        },
        "id": "wQBt_tig_mhf",
        "outputId": "ca6cc75f-cc5c-4fb2-dcb2-67ca5d18917d"
      },
      "execution_count": 1,
      "outputs": [
        {
          "output_type": "stream",
          "name": "stdout",
          "text": [
            "Mounted at /content/drive\n"
          ]
        }
      ]
    },
    {
      "cell_type": "code",
      "execution_count": 6,
      "metadata": {
        "colab": {
          "base_uri": "https://localhost:8080/",
          "height": 1000
        },
        "id": "xcrGLE1T-2tz",
        "outputId": "131218ca-aedd-478d-96e7-9885afd605f6"
      },
      "outputs": [
        {
          "output_type": "stream",
          "name": "stdout",
          "text": [
            "Epoch 1/10\n",
            "2/2 [==============================] - 4s 1s/step - loss: 50.8531 - accuracy: 0.3725 - val_loss: 111.3532 - val_accuracy: 0.8462\n",
            "Epoch 2/10\n",
            "2/2 [==============================] - 1s 496ms/step - loss: 88.7639 - accuracy: 0.8824 - val_loss: 54.5942 - val_accuracy: 0.8462\n",
            "Epoch 3/10\n",
            "2/2 [==============================] - 1s 546ms/step - loss: 40.9412 - accuracy: 0.8824 - val_loss: 7.8805 - val_accuracy: 0.8462\n",
            "Epoch 4/10\n",
            "2/2 [==============================] - 1s 544ms/step - loss: 22.7504 - accuracy: 0.5882 - val_loss: 0.2609 - val_accuracy: 0.8462\n",
            "Epoch 5/10\n",
            "2/2 [==============================] - 1s 571ms/step - loss: 3.3172 - accuracy: 0.9216 - val_loss: 9.9873 - val_accuracy: 0.8462\n",
            "Epoch 6/10\n",
            "2/2 [==============================] - 1s 459ms/step - loss: 8.7449 - accuracy: 0.8824 - val_loss: 10.3614 - val_accuracy: 0.8462\n",
            "Epoch 7/10\n",
            "2/2 [==============================] - 1s 453ms/step - loss: 7.8290 - accuracy: 0.8824 - val_loss: 4.8565 - val_accuracy: 0.8462\n",
            "Epoch 8/10\n",
            "2/2 [==============================] - 1s 478ms/step - loss: 4.0225 - accuracy: 0.8627 - val_loss: 0.3742 - val_accuracy: 0.8462\n",
            "Epoch 9/10\n",
            "2/2 [==============================] - 1s 473ms/step - loss: 0.2623 - accuracy: 0.9216 - val_loss: 0.3675 - val_accuracy: 0.8462\n",
            "Epoch 10/10\n",
            "2/2 [==============================] - 1s 613ms/step - loss: 0.2728 - accuracy: 0.9608 - val_loss: 1.0699 - val_accuracy: 0.8462\n",
            "1/1 [==============================] - 0s 259ms/step\n",
            "Accuracy: 0.8462\n",
            "Precision: 0.8462\n",
            "Recall: 1.0000\n",
            "F1 Score: 0.9167\n",
            "Confusion Matrix:\n",
            " [[ 0  2]\n",
            " [ 0 11]]\n"
          ]
        },
        {
          "output_type": "display_data",
          "data": {
            "text/plain": [
              "<Figure size 1000x700 with 2 Axes>"
            ],
            "image/png": "[encoded data removed]"
          },
          "metadata": {}
        }
      ],
      "source": [
        "import os\n",
        "import librosa\n",
        "import numpy as np\n",
        "import matplotlib.pyplot as plt\n",
        "import tensorflow as tf\n",
        "from tensorflow.keras.models import Sequential\n",
        "from tensorflow.keras.layers import Conv2D, MaxPooling2D, Flatten, Dense\n",
        "from sklearn.model_selection import train_test_split\n",
        "from sklearn.metrics import accuracy_score, precision_score, recall_score, f1_score, confusion_matrix\n",
        "import seaborn as sns\n",
        "\n",
        "# Define paths\n",
        "real_dataset_path = '/content/drive/MyDrive/dataset/TeamDeepwave/dataset/KaggleDataset/real'\n",
        "fake_dataset_path = '/content/drive/MyDrive/dataset/TeamDeepwave/dataset/KaggleDataset/fake'\n",
        "\n",
        "# Load audio files and extract features\n",
        "def load_and_extract_features(file_path, max_pad_len=128):\n",
        "    y, sr = librosa.load(file_path, sr=None)\n",
        "    mel_spectrogram = librosa.feature.melspectrogram(y=y, sr=sr, n_mels=128)\n",
        "    mel_spectrogram_db = librosa.power_to_db(mel_spectrogram, ref=np.max)\n",
        "\n",
        "    if mel_spectrogram_db.shape[1] > max_pad_len:\n",
        "        mel_spectrogram_db = mel_spectrogram_db[:, :max_pad_len]\n",
        "    else:\n",
        "        pad_width = max_pad_len - mel_spectrogram_db.shape[1]\n",
        "        mel_spectrogram_db = np.pad(mel_spectrogram_db, pad_width=((0, 0), (0, pad_width)), mode='constant')\n",
        "\n",
        "    return mel_spectrogram_db\n",
        "\n",
        "# Get file paths and labels\n",
        "real_files = [os.path.join(real_dataset_path, f) for f in os.listdir(real_dataset_path) if f.endswith('.wav')]\n",
        "fake_files = [os.path.join(fake_dataset_path, f) for f in os.listdir(fake_dataset_path) if f.endswith('.wav')]\n",
        "real_labels = [0] * len(real_files)  # Label 0 for real\n",
        "fake_labels = [1] * len(fake_files)  # Label 1 for fake\n",
        "\n",
        "# Combine datasets\n",
        "file_paths = real_files + fake_files\n",
        "labels = real_labels + fake_labels\n",
        "\n",
        "# Split the data\n",
        "X_train_paths, X_test_paths, y_train, y_test = train_test_split(file_paths, labels, test_size=0.2, random_state=42)\n",
        "\n",
        "# Prepare the data\n",
        "def prepare_data(file_paths):\n",
        "    data = []\n",
        "    for file_path in file_paths:\n",
        "        features = load_and_extract_features(file_path)\n",
        "        data.append(features)\n",
        "    return np.array(data)\n",
        "\n",
        "X_train = prepare_data(X_train_paths)\n",
        "X_test = prepare_data(X_test_paths)\n",
        "\n",
        "# Convert labels to numpy arrays\n",
        "y_train = np.array(y_train)\n",
        "y_test = np.array(y_test)\n",
        "\n",
        "# Reshape the data for the Conv2D layer\n",
        "X_train = X_train[..., np.newaxis]\n",
        "X_test = X_test[..., np.newaxis]\n",
        "\n",
        "# Define the model\n",
        "model = Sequential([\n",
        "    Conv2D(32, (3, 3), activation='relu', input_shape=(128, 128, 1)),\n",
        "    MaxPooling2D((2, 2)),\n",
        "    Conv2D(64, (3, 3), activation='relu'),\n",
        "    MaxPooling2D((2, 2)),\n",
        "    Flatten(),\n",
        "    Dense(128, activation='relu'),\n",
        "    Dense(1, activation='sigmoid')\n",
        "])\n",
        "\n",
        "model.compile(optimizer='adam', loss='binary_crossentropy', metrics=['accuracy'])\n",
        "\n",
        "# Train the model\n",
        "model.fit(X_train, y_train, epochs=10, batch_size=32, validation_data=(X_test, y_test))\n",
        "\n",
        "# Evaluate the model\n",
        "y_pred_prob = model.predict(X_test)\n",
        "y_pred = (y_pred_prob > 0.5).astype(\"int32\")\n",
        "\n",
        "# Calculate and print metrics\n",
        "accuracy = accuracy_score(y_test, y_pred)\n",
        "precision = precision_score(y_test, y_pred)\n",
        "recall = recall_score(y_test, y_pred)\n",
        "f1 = f1_score(y_test, y_pred)\n",
        "conf_matrix = confusion_matrix(y_test, y_pred)\n",
        "\n",
        "print(f\"Accuracy: {accuracy:.4f}\")\n",
        "print(f\"Precision: {precision:.4f}\")\n",
        "print(f\"Recall: {recall:.4f}\")\n",
        "print(f\"F1 Score: {f1:.4f}\")\n",
        "print(f\"Confusion Matrix:\\n {conf_matrix}\")\n",
        "\n",
        "# Visualize confusion matrix\n",
        "plt.figure(figsize=(10, 7))\n",
        "sns.heatmap(conf_matrix, annot=True, fmt=\"d\", cmap=\"Blues\", xticklabels=[\"Real\", \"Fake\"], yticklabels=[\"Real\", \"Fake\"])\n",
        "plt.xlabel(\"Predicted\")\n",
        "plt.ylabel(\"True\")\n",
        "plt.title(\"Confusion Matrix\")\n",
        "plt.show()"
      ]
    },
    {
      "cell_type": "code",
      "source": [],
      "metadata": {
        "id": "Um-SgQ5rAfvL"
      },
      "execution_count": null,
      "outputs": []
    }
  ]
}