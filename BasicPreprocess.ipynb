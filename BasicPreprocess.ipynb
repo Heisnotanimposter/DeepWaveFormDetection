{
  "nbformat": 4,
  "nbformat_minor": 0,
  "metadata": {
    "colab": {
      "provenance": [],
      "machine_shape": "hm",
      "gpuType": "V28"
    },
    "kernelspec": {
      "name": "python3",
      "display_name": "Python 3"
    },
    "language_info": {
      "name": "python"
    },
    "accelerator": "TPU"
  },
  "cells": [
    {
      "cell_type": "code",
      "source": [
        "from google.colab import drive\n",
        "drive.mount('/content/drive')"
      ],
      "metadata": {
        "colab": {
          "base_uri": "https://localhost:8080/"
        },
        "id": "bD00R5QQ_TS7",
        "outputId": "466791b0-06f1-42b8-f2af-b6aa73678672"
      },
      "execution_count": null,
      "outputs": [
        {
          "output_type": "stream",
          "name": "stdout",
          "text": [
            "Mounted at /content/drive\n"
          ]
        }
      ]
    },
    {
      "cell_type": "code",
      "execution_count": null,
      "metadata": {
        "colab": {
          "base_uri": "https://localhost:8080/"
        },
        "id": "TmloXsao_O81",
        "outputId": "26cd3247-895b-490a-91ce-1257ed13389d"
      },
      "outputs": [
        {
          "metadata": {
            "tags": null
          },
          "name": "stdout",
          "output_type": "stream",
          "text": [
            "CSV Columns: Index(['id', 'path', 'label'], dtype='object')\n",
            "         id                  path label\n",
            "0  RUNQPNJF  ./train/RUNQPNJF.ogg  real\n",
            "1  JFAWUOGJ  ./train/JFAWUOGJ.ogg  fake\n",
            "2  RDKEKEVX  ./train/RDKEKEVX.ogg  real\n",
            "3  QYHJDOFK  ./train/QYHJDOFK.ogg  real\n",
            "4  RSPQNHAO  ./train/RSPQNHAO.ogg  real\n",
            "CSV Columns: Index(['id', 'path'], dtype='object')\n",
            "           id                   path\n",
            "0  TEST_00000  ./test/TEST_00000.ogg\n",
            "1  TEST_00001  ./test/TEST_00001.ogg\n",
            "2  TEST_00002  ./test/TEST_00002.ogg\n",
            "3  TEST_00003  ./test/TEST_00003.ogg\n",
            "4  TEST_00004  ./test/TEST_00004.ogg\n"
          ]
        },
        {
          "output_type": "stream",
          "name": "stderr",
          "text": [
            "\r  0%|          | 0/50000 [00:00<?, ?it/s]<ipython-input-2-7b871e4244e5>:46: UserWarning: PySoundFile failed. Trying audioread instead.\n",
            "  y, sr = librosa.load(file_path, sr=CONFIG.SR)\n",
            "/usr/local/lib/python3.10/dist-packages/librosa/core/audio.py:184: FutureWarning: librosa.core.audio.__audioread_load\n",
            "\tDeprecated as of librosa version 0.10.0.\n",
            "\tIt will be removed in librosa version 1.0.\n",
            "  y, sr_native = __audioread_load(path, offset, duration, dtype)\n",
            "100%|██████████| 50000/50000 [7:33:30<00:00,  1.84it/s]\n",
            "  0%|          | 0/50000 [00:00<?, ?it/s]<ipython-input-2-7b871e4244e5>:46: UserWarning: PySoundFile failed. Trying audioread instead.\n",
            "  y, sr = librosa.load(file_path, sr=CONFIG.SR)\n",
            "/usr/local/lib/python3.10/dist-packages/librosa/core/audio.py:184: FutureWarning: librosa.core.audio.__audioread_load\n",
            "\tDeprecated as of librosa version 0.10.0.\n",
            "\tIt will be removed in librosa version 1.0.\n",
            "  y, sr_native = __audioread_load(path, offset, duration, dtype)\n",
            " 49%|████▉     | 24598/50000 [4:03:08<310:39:38, 44.03s/it]"
          ]
        }
      ],
      "source": [
        "import os\n",
        "import pandas as pd\n",
        "import numpy as np\n",
        "import librosa\n",
        "import librosa.display\n",
        "from tqdm import tqdm\n",
        "import matplotlib.pyplot as plt\n",
        "\n",
        "# Configuration\n",
        "class Config:\n",
        "    SR = 32000  # Sampling rate\n",
        "    N_MELS = 128  # Number of Mel bands\n",
        "    MAX_SEQ_LEN = 200  # Maximum sequence length for input to the model\n",
        "    ROOT_FOLDER = '/content/drive/MyDrive/dataset/TeamDeepwave/dataset/open/'  # Dataset root folder\n",
        "    SUBSET_SIZE = 50000  # Size of the subset to use\n",
        "    OUTPUT_FOLDER = '/content/drive/MyDrive/dataset/TeamDeepwave/dataset/preprocessed/'  # Folder to save PNG images\n",
        "\n",
        "CONFIG = Config()\n",
        "\n",
        "# Ensure output directories exist\n",
        "os.makedirs(os.path.join(CONFIG.OUTPUT_FOLDER, 'train', 'real'), exist_ok=True)\n",
        "os.makedirs(os.path.join(CONFIG.OUTPUT_FOLDER, 'train', 'fake'), exist_ok=True)\n",
        "os.makedirs(os.path.join(CONFIG.OUTPUT_FOLDER, 'test'), exist_ok=True)\n",
        "\n",
        "# Function to load file paths and labels from CSV and select a subset for training data\n",
        "def load_train_file_paths_and_labels(csv_path, subset_size=CONFIG.SUBSET_SIZE):\n",
        "    df = pd.read_csv(csv_path)\n",
        "    print(\"CSV Columns:\", df.columns)  # Debug print to check columns\n",
        "    print(df.head())  # Print first few rows to check structure\n",
        "    df_subset = df.sample(n=subset_size)\n",
        "    file_paths = df_subset['path'].apply(lambda x: os.path.join(CONFIG.ROOT_FOLDER, x)).tolist()\n",
        "    labels = df_subset['label'].tolist()\n",
        "    return file_paths, labels\n",
        "\n",
        "# Function to load file paths from CSV and select a subset for testing data\n",
        "def load_test_file_paths(csv_path, subset_size=CONFIG.SUBSET_SIZE):\n",
        "    df = pd.read_csv(csv_path)\n",
        "    print(\"CSV Columns:\", df.columns)  # Debug print to check columns\n",
        "    print(df.head())  # Print first few rows to check structure\n",
        "    df_subset = df.sample(n=subset_size)\n",
        "    file_paths = df_subset['path'].apply(lambda x: os.path.join(CONFIG.ROOT_FOLDER, x)).tolist()\n",
        "    return file_paths\n",
        "\n",
        "# Function to save Mel-spectrogram as PNG\n",
        "def save_mel_spectrogram(file_path, label, output_folder, is_test=False):\n",
        "    y, sr = librosa.load(file_path, sr=CONFIG.SR)\n",
        "    mel_spectrogram = librosa.feature.melspectrogram(y=y, sr=sr, n_mels=CONFIG.N_MELS)\n",
        "    mel_spectrogram_db = librosa.power_to_db(mel_spectrogram, ref=np.max)\n",
        "\n",
        "    plt.figure(figsize=(10, 4))\n",
        "    librosa.display.specshow(mel_spectrogram_db, sr=sr, x_axis='time', y_axis='mel')\n",
        "    plt.colorbar(format='%+2.0f dB')\n",
        "    plt.title('Mel-spectrogram')\n",
        "    plt.tight_layout()\n",
        "\n",
        "    filename = os.path.basename(file_path).replace('.ogg', '.png')\n",
        "    if is_test:\n",
        "        output_path = os.path.join(output_folder, filename)\n",
        "    else:\n",
        "        if label == 'fake':\n",
        "            output_path = os.path.join(output_folder, 'fake', filename)\n",
        "        else:\n",
        "            output_path = os.path.join(output_folder, 'real', filename)\n",
        "\n",
        "    # Ensure the directory exists\n",
        "    os.makedirs(os.path.dirname(output_path), exist_ok=True)\n",
        "\n",
        "    plt.savefig(output_path)\n",
        "    plt.close()\n",
        "\n",
        "# Load file paths and labels for a subset of 50000 training files\n",
        "train_files, train_labels = load_train_file_paths_and_labels('/content/drive/MyDrive/dataset/TeamDeepwave/dataset/open/train.csv')\n",
        "\n",
        "# Load file paths for a subset of 50000 testing files\n",
        "test_files = load_test_file_paths('/content/drive/MyDrive/dataset/TeamDeepwave/dataset/open/test.csv')\n",
        "\n",
        "# Save Mel-spectrograms as PNG images for training data\n",
        "for file_path, label in tqdm(zip(train_files, train_labels), total=len(train_files)):\n",
        "    save_mel_spectrogram(file_path, label, os.path.join(CONFIG.OUTPUT_FOLDER, 'train'))\n",
        "\n",
        "# Save Mel-spectrograms as PNG images for testing data\n",
        "for file_path in tqdm(test_files, total=len(test_files)):\n",
        "    save_mel_spectrogram(file_path, None, os.path.join(CONFIG.OUTPUT_FOLDER, 'test'), is_test=True)\n",
        "\n",
        "print('Mel-spectrogram images saved successfully.')"
      ]
    },
    {
      "cell_type": "code",
      "source": [
        "def load_file_paths_and_labels(csv_path, subset_size=200):\n",
        "    df = pd.read_csv(csv_path)\n",
        "    print(\"CSV Columns:\", df.columns)  # Debug print to check columns\n",
        "    print(df.head())  # Print first few rows to check structure\n",
        "    df_subset = df.sample(n=subset_size, random_state=CONFIG.SEED)\n",
        "    file_paths = df_subset['filepath'].apply(lambda x: os.path.join(CONFIG.ROOT_FOLDER, x)).tolist()\n",
        "    labels = df_subset['class'].apply(lambda x: [1, 0] if x == 'fake' else [0, 1]).tolist()\n",
        "    return file_paths, labels\n"
      ],
      "metadata": {
        "id": "e4AvScL7_QSA"
      },
      "execution_count": null,
      "outputs": []
    },
    {
      "cell_type": "code",
      "source": [],
      "metadata": {
        "id": "rcqADZ-AA9Yh"
      },
      "execution_count": null,
      "outputs": []
    }
  ]
}