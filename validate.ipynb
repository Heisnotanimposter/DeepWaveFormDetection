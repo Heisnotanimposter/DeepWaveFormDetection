{
  "nbformat": 4,
  "nbformat_minor": 0,
  "metadata": {
    "colab": {
      "provenance": []
    },
    "kernelspec": {
      "name": "python3",
      "display_name": "Python 3"
    },
    "language_info": {
      "name": "python"
    }
  },
  "cells": [
    {
      "cell_type": "code",
      "source": [],
      "metadata": {
        "id": "LqsgdJLxhT2w"
      },
      "execution_count": null,
      "outputs": []
    },
    {
      "cell_type": "code",
      "execution_count": null,
      "metadata": {
        "id": "03eK_cSig_Xl"
      },
      "outputs": [],
      "source": [
        "import os\n",
        "import pandas as pd\n",
        "import numpy as np\n",
        "import torch\n",
        "from torch.utils.data import Dataset, DataLoader\n",
        "from PIL import Image\n",
        "from torchvision import transforms\n",
        "from tqdm import tqdm\n",
        "\n",
        "# Configuration\n",
        "class Config:\n",
        "    ROOT_FOLDER = '/content/drive/MyDrive/dataset/TeamDeepwave/dataset/preprocessed/'\n",
        "    BATCH_SIZE = 64\n",
        "    MODEL_PATH = '/content/drive/MyDrive/models/best-model.pt'  # Path to your best model\n",
        "\n",
        "CONFIG = Config()\n",
        "\n",
        "device = torch.device('cuda') if torch.cuda.is_available() else torch.device('cpu')\n",
        "\n",
        "# Custom Dataset for Mel-spectrogram images\n",
        "class CustomDataset(Dataset):\n",
        "    def __init__(self, mel_files, transform=None):\n",
        "        self.mel_files = mel_files\n",
        "        self.transform = transform\n",
        "\n",
        "    def __len__(self):\n",
        "        return len(self.mel_files)\n",
        "\n",
        "    def __getitem__(self, idx):\n",
        "        mel_image = Image.open(self.mel_files[idx]).convert('RGB')\n",
        "        if self.transform:\n",
        "            mel_image = self.transform(mel_image)\n",
        "        return mel_image\n",
        "\n",
        "# Load file paths for the test dataset\n",
        "def load_test_file_paths(root_folder):\n",
        "    mel_files = glob.glob(os.path.join(root_folder, 'test', '*.png'))\n",
        "    return mel_files\n",
        "\n",
        "# Data transformations for Mel-spectrogram images\n",
        "transform = transforms.Compose([\n",
        "    transforms.Resize((128, 128)),\n",
        "    transforms.ToTensor(),\n",
        "    transforms.Normalize(mean=[0.5, 0.5, 0.5], std=[0.5, 0.5, 0.5])\n",
        "])\n",
        "\n",
        "# Load test file paths\n",
        "test_mel_files = load_test_file_paths(CONFIG.ROOT_FOLDER)\n",
        "\n",
        "# Create test dataset and loader\n",
        "test_dataset = CustomDataset(test_mel_files, transform=transform)\n",
        "test_loader = DataLoader(test_dataset, batch_size=CONFIG.BATCH_SIZE, shuffle=False)\n",
        "\n",
        "# Load the best model\n",
        "model = torch.load(CONFIG.MODEL_PATH, map_location=device)\n",
        "model.eval()\n",
        "\n",
        "# Prediction on test dataset\n",
        "def predict(model, loader, device):\n",
        "    model.eval()\n",
        "    all_predictions = []\n",
        "    with torch.no_grad():\n",
        "        for mel in tqdm(loader, desc=\"Predicting\", leave=False):\n",
        "            mel = mel.to(device)\n",
        "            outputs = model(mel)\n",
        "            probs = torch.nn.functional.softmax(outputs, dim=1)\n",
        "            all_predictions.extend(probs.cpu().numpy())\n",
        "    return np.array(all_predictions)\n",
        "\n",
        "# Predict on test data\n",
        "test_predictions = predict(model, test_loader, device)\n",
        "\n",
        "# Create a DataFrame for submission\n",
        "submission_df = pd.DataFrame(test_predictions, columns=['fake', 'real'])\n",
        "\n",
        "# Extracting IDs from test file paths\n",
        "test_ids = [os.path.basename(f).replace('.png', '') for f in test_mel_files]\n",
        "submission_df.insert(0, 'id', test_ids)\n",
        "\n",
        "# Save to CSV\n",
        "submission_df.to_csv('submission.csv', index=False)\n",
        "print('Submission file created successfully!')"
      ]
    },
    {
      "cell_type": "code",
      "source": [],
      "metadata": {
        "id": "GOT7nVARhEn4"
      },
      "execution_count": null,
      "outputs": []
    }
  ]
}