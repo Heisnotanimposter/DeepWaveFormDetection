{
  "nbformat": 4,
  "nbformat_minor": 0,
  "metadata": {
    "colab": {
      "provenance": []
    },
    "kernelspec": {
      "name": "python3",
      "display_name": "Python 3"
    },
    "language_info": {
      "name": "python"
    }
  },
  "cells": [
    {
      "cell_type": "code",
      "execution_count": 1,
      "metadata": {
        "colab": {
          "base_uri": "https://localhost:8080/"
        },
        "id": "JioY3ufW8qvy",
        "outputId": "b2bf7dae-87e5-44c3-a019-604e745f50dc"
      },
      "outputs": [
        {
          "output_type": "stream",
          "name": "stdout",
          "text": [
            "Collecting resampy\n",
            "  Downloading resampy-0.4.3-py3-none-any.whl (3.1 MB)\n",
            "\u001b[2K     \u001b[90m━━━━━━━━━━━━━━━━━━━━━━━━━━━━━━━━━━━━━━━━\u001b[0m \u001b[32m3.1/3.1 MB\u001b[0m \u001b[31m11.6 MB/s\u001b[0m eta \u001b[36m0:00:00\u001b[0m\n",
            "\u001b[?25hRequirement already satisfied: numpy>=1.17 in /usr/local/lib/python3.10/dist-packages (from resampy) (1.25.2)\n",
            "Requirement already satisfied: numba>=0.53 in /usr/local/lib/python3.10/dist-packages (from resampy) (0.58.1)\n",
            "Requirement already satisfied: llvmlite<0.42,>=0.41.0dev0 in /usr/local/lib/python3.10/dist-packages (from numba>=0.53->resampy) (0.41.1)\n",
            "Installing collected packages: resampy\n",
            "Successfully installed resampy-0.4.3\n"
          ]
        }
      ],
      "source": [
        "!pip install resampy\n",
        "\n"
      ]
    },
    {
      "cell_type": "code",
      "source": [
        "import numpy as np\n",
        "import pandas as pd\n",
        "import os\n",
        "import librosa\n",
        "import matplotlib.pyplot as plt\n",
        "import seaborn as sns\n",
        "from tqdm.notebook import tqdm\n",
        "import IPython\n",
        "from sklearn.model_selection import train_test_split\n",
        "from sklearn.preprocessing import LabelEncoder\n",
        "from imblearn.over_sampling import RandomOverSampler\n",
        "from tensorflow.keras.models import Sequential\n",
        "from tensorflow.keras.layers import Dense, Activation,Reshape,MaxPooling2D, Dropout, Conv2D, MaxPool2D, Flatten\n",
        "from tensorflow.keras.utils import to_categorical\n",
        "from tensorflow.keras.callbacks import EarlyStopping\n"
      ],
      "metadata": {
        "id": "zmVsNc599Y39"
      },
      "execution_count": 4,
      "outputs": []
    },
    {
      "cell_type": "code",
      "source": [
        "import os\n",
        "\n",
        "paths = []\n",
        "labels = []\n",
        "\n",
        "# Define the root directory\n",
        "root_dir = ''\n",
        "\n",
        "# Iterate through the subdirectories\n",
        "for subdir in os.listdir(root_dir):\n",
        "    subdir_path = os.path.join(root_dir, subdir)\n",
        "    # Check if it's a directory\n",
        "    if os.path.isdir(subdir_path):\n",
        "        # Add all files in the subdirectory\n",
        "        for filename in os.listdir(subdir_path):\n",
        "            file_path = os.path.join(subdir_path, filename)\n",
        "            paths.append(file_path)\n",
        "            # Add label based on the subdirectory name\n",
        "            labels.append(subdir)\n",
        "\n",
        "print('Dataset is loaded')\n"
      ],
      "metadata": {
        "colab": {
          "base_uri": "https://localhost:8080/",
          "height": 269
        },
        "id": "TdskOXjv9cLl",
        "outputId": "5464bb4a-3f02-4833-f0c0-d388ffd60212"
      },
      "execution_count": 3,
      "outputs": [
        {
          "output_type": "error",
          "ename": "FileNotFoundError",
          "evalue": "[Errno 2] No such file or directory: '/kaggle/input/deep-voice-deepfake-voice-recognition/KAGGLE/AUDIO'",
          "traceback": [
            "\u001b[0;31m---------------------------------------------------------------------------\u001b[0m",
            "\u001b[0;31mFileNotFoundError\u001b[0m                         Traceback (most recent call last)",
            "\u001b[0;32m<ipython-input-3-78691ff622a1>\u001b[0m in \u001b[0;36m<cell line: 10>\u001b[0;34m()\u001b[0m\n\u001b[1;32m      8\u001b[0m \u001b[0;34m\u001b[0m\u001b[0m\n\u001b[1;32m      9\u001b[0m \u001b[0;31m# Iterate through the subdirectories\u001b[0m\u001b[0;34m\u001b[0m\u001b[0;34m\u001b[0m\u001b[0m\n\u001b[0;32m---> 10\u001b[0;31m \u001b[0;32mfor\u001b[0m \u001b[0msubdir\u001b[0m \u001b[0;32min\u001b[0m \u001b[0mos\u001b[0m\u001b[0;34m.\u001b[0m\u001b[0mlistdir\u001b[0m\u001b[0;34m(\u001b[0m\u001b[0mroot_dir\u001b[0m\u001b[0;34m)\u001b[0m\u001b[0;34m:\u001b[0m\u001b[0;34m\u001b[0m\u001b[0;34m\u001b[0m\u001b[0m\n\u001b[0m\u001b[1;32m     11\u001b[0m     \u001b[0msubdir_path\u001b[0m \u001b[0;34m=\u001b[0m \u001b[0mos\u001b[0m\u001b[0;34m.\u001b[0m\u001b[0mpath\u001b[0m\u001b[0;34m.\u001b[0m\u001b[0mjoin\u001b[0m\u001b[0;34m(\u001b[0m\u001b[0mroot_dir\u001b[0m\u001b[0;34m,\u001b[0m \u001b[0msubdir\u001b[0m\u001b[0;34m)\u001b[0m\u001b[0;34m\u001b[0m\u001b[0;34m\u001b[0m\u001b[0m\n\u001b[1;32m     12\u001b[0m     \u001b[0;31m# Check if it's a directory\u001b[0m\u001b[0;34m\u001b[0m\u001b[0;34m\u001b[0m\u001b[0m\n",
            "\u001b[0;31mFileNotFoundError\u001b[0m: [Errno 2] No such file or directory: '/kaggle/input/deep-voice-deepfake-voice-recognition/KAGGLE/AUDIO'"
          ]
        }
      ]
    },
    {
      "cell_type": "code",
      "source": [
        "len(paths)"
      ],
      "metadata": {
        "id": "MoQb9ssc9hqp"
      },
      "execution_count": null,
      "outputs": []
    },
    {
      "cell_type": "code",
      "source": [
        "paths[:5]"
      ],
      "metadata": {
        "colab": {
          "base_uri": "https://localhost:8080/"
        },
        "id": "rFikdKxT90CM",
        "outputId": "9dc05018-4581-465a-b78b-70e8cd3b1a02"
      },
      "execution_count": 5,
      "outputs": [
        {
          "output_type": "execute_result",
          "data": {
            "text/plain": [
              "[]"
            ]
          },
          "metadata": {},
          "execution_count": 5
        }
      ]
    },
    {
      "cell_type": "code",
      "source": [
        "len(labels)"
      ],
      "metadata": {
        "id": "Y8eZJzjn91ZY"
      },
      "execution_count": null,
      "outputs": []
    },
    {
      "cell_type": "code",
      "source": [
        "df = pd.DataFrame()\n",
        "df['speech'] = paths\n",
        "df['lable' = labels]"
      ],
      "metadata": {
        "id": "F6qJ69cP94O6"
      },
      "execution_count": null,
      "outputs": []
    },
    {
      "cell_type": "code",
      "source": [
        "df['label'].value_counts()"
      ],
      "metadata": {
        "id": "TB_yUAAe9_fz"
      },
      "execution_count": null,
      "outputs": []
    },
    {
      "cell_type": "code",
      "source": [
        "audio_path = ''\n",
        "real_audio_path = ''\n",
        "fake_audio_path= = ''"
      ],
      "metadata": {
        "id": "CIqm2FML-F0x"
      },
      "execution_count": null,
      "outputs": []
    },
    {
      "cell_type": "code",
      "source": [
        "folders = os.listdir(audio_path)\n",
        "print(folders)"
      ],
      "metadata": {
        "id": "bqH-B7nl-NTl"
      },
      "execution_count": null,
      "outputs": []
    },
    {
      "cell_type": "code",
      "source": [
        "real_audio = ''\n",
        "fake_audio = ''"
      ],
      "metadata": {
        "id": "r6pHzStp-Sek"
      },
      "execution_count": null,
      "outputs": []
    },
    {
      "cell_type": "code",
      "source": [
        "print('Real_audio')\n",
        "Ipython.display.Audio(real_audio)"
      ],
      "metadata": {
        "id": "U5jziCCJ-XIR"
      },
      "execution_count": null,
      "outputs": []
    },
    {
      "cell_type": "code",
      "source": [
        "print('Fake Audio:')\n",
        "Ipython.display.Audio(fake_audio)"
      ],
      "metadata": {
        "id": "dBN85ilD-cwr"
      },
      "execution_count": null,
      "outputs": []
    },
    {
      "cell_type": "code",
      "source": [
        "real_ad, real_sr = librosa.load(real_audio)\n",
        "plt.figure(figsize = (12,4))\n",
        "plt.plot(real_ad)\n",
        "plt.title('Real Audio Data')\n",
        "plt.show()"
      ],
      "metadata": {
        "id": "qZeTfI1l-lyp"
      },
      "execution_count": null,
      "outputs": []
    },
    {
      "cell_type": "code",
      "source": [
        "real_spec = np.abs(librosa.stft(real_ad))\n",
        "real_spec = librosa.amplitude_to_db(real_spec, ref = np.max)\n",
        "plt.figure(figsize=(12,4))\n",
        "librosa.display.specshow(real_spec, sr = real_st, x_axis = 'time' , y_axis = 'log')\n",
        "plt.colorbar(format = '%+2.0f dB')\n",
        "plt.title('Real Audio Spectrogram')\n",
        "plt.show()"
      ],
      "metadata": {
        "id": "zX4__r6s-7LB"
      },
      "execution_count": null,
      "outputs": []
    },
    {
      "cell_type": "code",
      "source": [
        "real_mel_spect = librosa.feature.melspectrogram(real_ad, sr = real_sr)\n",
        "real_mel_spect = librosa.power_to_db(real_mel_spect, ref = np.max)\n",
        "plt.figure(figsize = (12,4))\n",
        "librosa.display.specshow(real_mel_spect, y_axis='mel', x_axis= 'time')\n",
        "plt.title('Real Audio Mel Spectogram')\n",
        "plt.colorbar(format = '%+2.0f dB')\n",
        "plt.show()"
      ],
      "metadata": {
        "id": "PVXEpIOp_t3a"
      },
      "execution_count": null,
      "outputs": []
    },
    {
      "cell_type": "code",
      "source": [
        "real_chroma = librosa.feature.chroma_cqt(y=real_ad, sr = real_st, bins_per_octave = 36)\n",
        "plt.figure(figsize = (12,4))\n",
        "librosa.display.specshow(real_chroma, sr = real_sr, x_axis = 'time' , y_axis = 'chrom', vmin = 0 , vmax = 1)\n",
        "plt.colorbar(format = '%+2.0f dB')\n",
        "plt.title('Real Audio Chroma')\n",
        "plt.show()"
      ],
      "metadata": {
        "id": "lWgQnIFiAjnF"
      },
      "execution_count": null,
      "outputs": []
    },
    {
      "cell_type": "code",
      "source": [
        "real_mfcc = librosa.feature.mfcc(y = real_ad, sr = real_sr)\n",
        "plt.figure(figsize = 12,4)\n",
        "librosa.display.specshow(real_mfcc, sr = real_st, x_axis = 'time')\n",
        "plt.colorbar()\n",
        "plt.title('Real Auduio MFCC')\n",
        "plt.show()"
      ],
      "metadata": {
        "id": "oitMmutsBLGc"
      },
      "execution_count": null,
      "outputs": []
    },
    {
      "cell_type": "code",
      "source": [
        "fake_ad, fake_sr = librosa.load(fake_audio)\n",
        "plt.figure(figsize =(12,4))\n",
        "plt.plot(fake_ad)\n",
        "plt.title(\"Fake Audio Data\")\n",
        "plt.show()"
      ],
      "metadata": {
        "id": "orlCgUEkCYv3"
      },
      "execution_count": null,
      "outputs": []
    },
    {
      "cell_type": "code",
      "source": [
        "fake_spec = np.abs(librosa.stft(fake_ad))\n",
        "fake_spec = librosa.amplitude_to_db(fake_spec, ref = np.max)\n",
        "plt.figure(figsize=(12,4))\n",
        "librosa.display.specshow(fake_spec, sr = fake_sr, x_axis = 'time', y_axis = 'log')\n",
        "plt.colorbar(format = '%+2.0f dB')\n",
        "plt.title(\"Real Fake Spectogram\")\n",
        "plt.show()"
      ],
      "metadata": {
        "id": "Hyv6eG7pCdXr"
      },
      "execution_count": null,
      "outputs": []
    },
    {
      "cell_type": "code",
      "source": [
        "fake_mel_spect = librosa.feature.melspectrogram(y = fake_ad, sr = fake_sr)\n",
        "fake_mel_spect = librosa.power_to_db(fake_mel_spect, ref = np.max)\n",
        "plt.figure(figsize = (14,5))\n",
        "librosa.display.specshow(fake_mel_spect, y_axis ='mel', x_axis = 'time')\n",
        "plt.title('Fake Audio Mel Spectogram')\n",
        "plt.colorbar(format = '%+2.0f dB')\n",
        "plt.show()"
      ],
      "metadata": {
        "id": "sotNerRUCfhv"
      },
      "execution_count": null,
      "outputs": []
    },
    {
      "cell_type": "code",
      "source": [
        "fake_chroma = librosa.feature.chroma_cqt(y = fake_ad, sr = fake_sr, bins_per_octave=36)\n",
        "plt.figure(figsize=(14,5))\n",
        "librosa.display.specshow(fake_chroma, sr = fake_sr, x_axis= 'time', y_axis = 'chroma', vmin = 0, vmax = 1)\n",
        "plt.colorbar()\n",
        "plt.title('Fake Audio Chromagram')\n",
        "plt.show()"
      ],
      "metadata": {
        "id": "MGgJ57TMCy3G"
      },
      "execution_count": null,
      "outputs": []
    },
    {
      "cell_type": "code",
      "source": [
        "fake_mfcc = librosa.feature.mfcc(y = fake_ad, sr = fake_sr)\n",
        "plt.figure(figsize = (14,5))\n",
        "librosa.display.specshow(fake_mfcc, sr = fake_sr, x_axis ='time')\n",
        "plt.colorbar()\n",
        "plt.title('Fake Audio Mel-Frequency Cepstral Ceofficients (MFCCS)')\n",
        "plt.show()\n"
      ],
      "metadata": {
        "id": "2A3g3VFzC0mM"
      },
      "execution_count": null,
      "outputs": []
    }
  ]
}