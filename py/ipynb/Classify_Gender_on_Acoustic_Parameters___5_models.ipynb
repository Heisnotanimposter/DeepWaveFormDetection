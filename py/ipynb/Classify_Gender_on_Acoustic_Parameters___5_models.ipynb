{
  "metadata": {
    "kernelspec": {
      "language": "python",
      "display_name": "Python 3",
      "name": "python3"
    },
    "language_info": {
      "pygments_lexer": "ipython3",
      "nbconvert_exporter": "python",
      "version": "3.6.4",
      "file_extension": ".py",
      "codemirror_mode": {
        "name": "ipython",
        "version": 3
      },
      "name": "python",
      "mimetype": "text/x-python"
    },
    "colab": {
      "name": "Classify Gender on Acoustic Parameters | 5 models",
      "provenance": []
    }
  },
  "nbformat_minor": 0,
  "nbformat": 4,
  "cells": [
    {
      "source": [
        "\n",
        "# IMPORTANT: RUN THIS CELL IN ORDER TO IMPORT YOUR KAGGLE DATA SOURCES\n",
        "# TO THE CORRECT LOCATION (/kaggle/input) IN YOUR NOTEBOOK,\n",
        "# THEN FEEL FREE TO DELETE THIS CELL.\n",
        "# NOTE: THIS NOTEBOOK ENVIRONMENT DIFFERS FROM KAGGLE'S PYTHON\n",
        "# ENVIRONMENT SO THERE MAY BE MISSING LIBRARIES USED BY YOUR\n",
        "# NOTEBOOK.\n",
        "\n",
        "import os\n",
        "import sys\n",
        "from tempfile import NamedTemporaryFile\n",
        "from urllib.request import urlopen\n",
        "from urllib.parse import unquote, urlparse\n",
        "from urllib.error import HTTPError\n",
        "from zipfile import ZipFile\n",
        "import tarfile\n",
        "import shutil\n",
        "\n",
        "CHUNK_SIZE = 40960\n",
        "DATA_SOURCE_MAPPING = 'voice-dataset:https%3A%2F%2Fstorage.googleapis.com%2Fkaggle-data-sets%2F2557638%2F4344911%2Fbundle%2Farchive.zip%3FX-Goog-Algorithm%3DGOOG4-RSA-SHA256%26X-Goog-Credential%3Dgcp-kaggle-com%2540kaggle-161607.iam.gserviceaccount.com%252F20240622%252Fauto%252Fstorage%252Fgoog4_request%26X-Goog-Date%3D20240622T072505Z%26X-Goog-Expires%3D259200%26X-Goog-SignedHeaders%3Dhost%26X-Goog-Signature%3D8be8a11aedf3d53b690cc42935ee819fb435cac095043ade2d4d2d51e993fcd06e4765021a245ba6dbfea813a51938826c4bf4f254b6d30393f7496187b9ae47f8399b3c776edd0d420123d31b5c38bc132cb2613560519da072e0de3dea1ff5f6bbd73f375c0f555b939016209223817aa8a7bc4a754bccda8601ce0b9407476c66735db485093a1e62b6c1c61b6b9d82cf4a3f991d2c7606180993cc4d3d1cdd8152e3833f32e8777fd1429d2e03056af263dd28c2ef1385344257a5ed0ea1ff403f947a303964e35f3aad1066ed4354f105e9d3b29828e47cc6315bb0b91a542484f785dcbe8e954d3acbfa62a354efb0dfa196f05644de6e8276de6f46d3'\n",
        "\n",
        "KAGGLE_INPUT_PATH='/kaggle/input'\n",
        "KAGGLE_WORKING_PATH='/kaggle/working'\n",
        "KAGGLE_SYMLINK='kaggle'\n",
        "\n",
        "!umount /kaggle/input/ 2> /dev/null\n",
        "shutil.rmtree('/kaggle/input', ignore_errors=True)\n",
        "os.makedirs(KAGGLE_INPUT_PATH, 0o777, exist_ok=True)\n",
        "os.makedirs(KAGGLE_WORKING_PATH, 0o777, exist_ok=True)\n",
        "\n",
        "try:\n",
        "  os.symlink(KAGGLE_INPUT_PATH, os.path.join(\"..\", 'input'), target_is_directory=True)\n",
        "except FileExistsError:\n",
        "  pass\n",
        "try:\n",
        "  os.symlink(KAGGLE_WORKING_PATH, os.path.join(\"..\", 'working'), target_is_directory=True)\n",
        "except FileExistsError:\n",
        "  pass\n",
        "\n",
        "for data_source_mapping in DATA_SOURCE_MAPPING.split(','):\n",
        "    directory, download_url_encoded = data_source_mapping.split(':')\n",
        "    download_url = unquote(download_url_encoded)\n",
        "    filename = urlparse(download_url).path\n",
        "    destination_path = os.path.join(KAGGLE_INPUT_PATH, directory)\n",
        "    try:\n",
        "        with urlopen(download_url) as fileres, NamedTemporaryFile() as tfile:\n",
        "            total_length = fileres.headers['content-length']\n",
        "            print(f'Downloading {directory}, {total_length} bytes compressed')\n",
        "            dl = 0\n",
        "            data = fileres.read(CHUNK_SIZE)\n",
        "            while len(data) > 0:\n",
        "                dl += len(data)\n",
        "                tfile.write(data)\n",
        "                done = int(50 * dl / int(total_length))\n",
        "                sys.stdout.write(f\"\\r[{'=' * done}{' ' * (50-done)}] {dl} bytes downloaded\")\n",
        "                sys.stdout.flush()\n",
        "                data = fileres.read(CHUNK_SIZE)\n",
        "            if filename.endswith('.zip'):\n",
        "              with ZipFile(tfile) as zfile:\n",
        "                zfile.extractall(destination_path)\n",
        "            else:\n",
        "              with tarfile.open(tfile.name) as tarfile:\n",
        "                tarfile.extractall(destination_path)\n",
        "            print(f'\\nDownloaded and uncompressed: {directory}')\n",
        "    except HTTPError as e:\n",
        "        print(f'Failed to load (likely expired) {download_url} to path {destination_path}')\n",
        "        continue\n",
        "    except OSError as e:\n",
        "        print(f'Failed to load {download_url} to path {destination_path}')\n",
        "        continue\n",
        "\n",
        "print('Data source import complete.')\n"
      ],
      "metadata": {
        "id": "IDDc6cAC1ady"
      },
      "cell_type": "code",
      "outputs": [],
      "execution_count": null
    },
    {
      "cell_type": "code",
      "source": [
        "import numpy as np\n",
        "import pandas as pd\n",
        "import matplotlib.pyplot as plt\n",
        "import seaborn as sns"
      ],
      "metadata": {
        "execution": {
          "iopub.status.busy": "2022-10-30T07:43:16.368012Z",
          "iopub.execute_input": "2022-10-30T07:43:16.368478Z",
          "iopub.status.idle": "2022-10-30T07:43:16.373897Z",
          "shell.execute_reply.started": "2022-10-30T07:43:16.36844Z",
          "shell.execute_reply": "2022-10-30T07:43:16.372719Z"
        },
        "trusted": true,
        "id": "IyiViBYr1ad0"
      },
      "execution_count": null,
      "outputs": []
    },
    {
      "cell_type": "markdown",
      "source": [
        "# Loading the dataset 'Voice'"
      ],
      "metadata": {
        "id": "PvCd1l7A1ad1"
      }
    },
    {
      "cell_type": "code",
      "source": [
        "df = pd.read_csv('../input/voice-dataset/voice.csv')\n",
        "df.head()"
      ],
      "metadata": {
        "execution": {
          "iopub.status.busy": "2022-10-30T07:43:16.378441Z",
          "iopub.execute_input": "2022-10-30T07:43:16.378804Z",
          "iopub.status.idle": "2022-10-30T07:43:16.445654Z",
          "shell.execute_reply.started": "2022-10-30T07:43:16.378771Z",
          "shell.execute_reply": "2022-10-30T07:43:16.444626Z"
        },
        "trusted": true,
        "id": "6G6mJFWy1ad1"
      },
      "execution_count": null,
      "outputs": []
    },
    {
      "cell_type": "code",
      "source": [
        "df.shape"
      ],
      "metadata": {
        "execution": {
          "iopub.status.busy": "2022-10-30T07:43:16.447705Z",
          "iopub.execute_input": "2022-10-30T07:43:16.44874Z",
          "iopub.status.idle": "2022-10-30T07:43:16.456308Z",
          "shell.execute_reply.started": "2022-10-30T07:43:16.448689Z",
          "shell.execute_reply": "2022-10-30T07:43:16.455203Z"
        },
        "trusted": true,
        "id": "2tVMJnjs1ad1"
      },
      "execution_count": null,
      "outputs": []
    },
    {
      "cell_type": "markdown",
      "source": [
        "Our dataset has 3168 rows and 21 columns"
      ],
      "metadata": {
        "id": "8MlADBDh1ad2"
      }
    },
    {
      "cell_type": "code",
      "source": [
        "df.isna().sum()"
      ],
      "metadata": {
        "execution": {
          "iopub.status.busy": "2022-10-30T07:43:16.457836Z",
          "iopub.execute_input": "2022-10-30T07:43:16.458288Z",
          "iopub.status.idle": "2022-10-30T07:43:16.473079Z",
          "shell.execute_reply.started": "2022-10-30T07:43:16.458254Z",
          "shell.execute_reply": "2022-10-30T07:43:16.471655Z"
        },
        "trusted": true,
        "id": "-uM5TA8t1ad2"
      },
      "execution_count": null,
      "outputs": []
    },
    {
      "cell_type": "markdown",
      "source": [
        "We don't have any null values to take care of."
      ],
      "metadata": {
        "id": "iK7jHj571ad2"
      }
    },
    {
      "cell_type": "markdown",
      "source": [
        "# Pie Chart"
      ],
      "metadata": {
        "id": "dPzq3ic-1ad2"
      }
    },
    {
      "cell_type": "code",
      "source": [
        "df['label'].value_counts()"
      ],
      "metadata": {
        "execution": {
          "iopub.status.busy": "2022-10-30T07:43:16.475747Z",
          "iopub.execute_input": "2022-10-30T07:43:16.476141Z",
          "iopub.status.idle": "2022-10-30T07:43:16.486275Z",
          "shell.execute_reply.started": "2022-10-30T07:43:16.476102Z",
          "shell.execute_reply": "2022-10-30T07:43:16.485039Z"
        },
        "trusted": true,
        "id": "HSGdfJag1ad2"
      },
      "execution_count": null,
      "outputs": []
    },
    {
      "cell_type": "code",
      "source": [
        "val= [1584,1584]\n",
        "label = ['male','female']\n",
        "plt.figure(figsize=(6,8))\n",
        "plt.pie(val,labels=label)\n",
        "plt.legend()\n",
        "plt.show()"
      ],
      "metadata": {
        "execution": {
          "iopub.status.busy": "2022-10-30T07:43:16.487332Z",
          "iopub.execute_input": "2022-10-30T07:43:16.487636Z",
          "iopub.status.idle": "2022-10-30T07:43:16.631679Z",
          "shell.execute_reply.started": "2022-10-30T07:43:16.487608Z",
          "shell.execute_reply": "2022-10-30T07:43:16.630211Z"
        },
        "trusted": true,
        "id": "vu3gehG01ad2"
      },
      "execution_count": null,
      "outputs": []
    },
    {
      "cell_type": "markdown",
      "source": [
        "# Exploratory Data Analysis"
      ],
      "metadata": {
        "id": "DvSQSlxR1ad2"
      }
    },
    {
      "cell_type": "code",
      "source": [
        "corr = df.corr()\n",
        "sns.set(font_scale=1.5)\n",
        "plt.figure(figsize=(20,20))\n",
        "sns.heatmap(corr,annot = True,cmap='coolwarm')\n",
        "plt.show()"
      ],
      "metadata": {
        "execution": {
          "iopub.status.busy": "2022-10-30T07:43:16.633577Z",
          "iopub.execute_input": "2022-10-30T07:43:16.63482Z",
          "iopub.status.idle": "2022-10-30T07:43:18.649247Z",
          "shell.execute_reply.started": "2022-10-30T07:43:16.634767Z",
          "shell.execute_reply": "2022-10-30T07:43:18.647872Z"
        },
        "trusted": true,
        "id": "t3B13FGt1ad2"
      },
      "execution_count": null,
      "outputs": []
    },
    {
      "cell_type": "markdown",
      "source": [
        "We will do EDA on similar columns with correlation higher than 0.8 and remove the columns which will not fetch us important patterns."
      ],
      "metadata": {
        "id": "pZWq5TV71ad3"
      }
    },
    {
      "cell_type": "code",
      "source": [
        "corr = df.corr()\n",
        "corr = corr[corr>0.85]\n",
        "plt.figure(figsize=(15,15))\n",
        "sns.heatmap(corr,annot = True,cmap='coolwarm')\n",
        "plt.show()"
      ],
      "metadata": {
        "execution": {
          "iopub.status.busy": "2022-10-30T07:43:18.650832Z",
          "iopub.execute_input": "2022-10-30T07:43:18.651315Z",
          "iopub.status.idle": "2022-10-30T07:43:19.337355Z",
          "shell.execute_reply.started": "2022-10-30T07:43:18.651264Z",
          "shell.execute_reply": "2022-10-30T07:43:19.336235Z"
        },
        "trusted": true,
        "id": "TYKEbhM-1ad3"
      },
      "execution_count": null,
      "outputs": []
    },
    {
      "cell_type": "code",
      "source": [
        "df = df.drop(['meanfreq','centroid',],axis=1)\n",
        "#we removed meanfreq and centroid as it had the maximum correlated columns"
      ],
      "metadata": {
        "execution": {
          "iopub.status.busy": "2022-10-30T07:43:19.338996Z",
          "iopub.execute_input": "2022-10-30T07:43:19.339748Z",
          "iopub.status.idle": "2022-10-30T07:43:19.345824Z",
          "shell.execute_reply.started": "2022-10-30T07:43:19.339713Z",
          "shell.execute_reply": "2022-10-30T07:43:19.344766Z"
        },
        "trusted": true,
        "id": "OXVAv5eD1ad3"
      },
      "execution_count": null,
      "outputs": []
    },
    {
      "cell_type": "code",
      "source": [
        "sns.boxplot(x=df.maxdom,y=df.label)\n",
        "plt.show()\n",
        "sns.boxplot(x=df.dfrange,y=df.label)\n",
        "plt.show()"
      ],
      "metadata": {
        "execution": {
          "iopub.status.busy": "2022-10-30T07:43:19.347287Z",
          "iopub.execute_input": "2022-10-30T07:43:19.347611Z",
          "iopub.status.idle": "2022-10-30T07:43:19.936479Z",
          "shell.execute_reply.started": "2022-10-30T07:43:19.347581Z",
          "shell.execute_reply": "2022-10-30T07:43:19.9353Z"
        },
        "trusted": true,
        "id": "YEXp4mz91ad3"
      },
      "execution_count": null,
      "outputs": []
    },
    {
      "cell_type": "code",
      "source": [
        "df = df.drop(['dfrange','maxdom'],axis=1)"
      ],
      "metadata": {
        "execution": {
          "iopub.status.busy": "2022-10-30T07:43:19.941673Z",
          "iopub.execute_input": "2022-10-30T07:43:19.942036Z",
          "iopub.status.idle": "2022-10-30T07:43:19.948506Z",
          "shell.execute_reply.started": "2022-10-30T07:43:19.942002Z",
          "shell.execute_reply": "2022-10-30T07:43:19.947237Z"
        },
        "trusted": true,
        "id": "QwEqscZK1ad3"
      },
      "execution_count": null,
      "outputs": []
    },
    {
      "cell_type": "code",
      "source": [
        "sns.boxplot(x=df['skew'],y=df.label)\n",
        "plt.show()\n",
        "sns.boxplot(x=df['kurt'],y=df.label)\n",
        "plt.show()"
      ],
      "metadata": {
        "execution": {
          "iopub.status.busy": "2022-10-30T07:43:19.949964Z",
          "iopub.execute_input": "2022-10-30T07:43:19.95046Z",
          "iopub.status.idle": "2022-10-30T07:43:20.371447Z",
          "shell.execute_reply.started": "2022-10-30T07:43:19.950415Z",
          "shell.execute_reply": "2022-10-30T07:43:20.370158Z"
        },
        "trusted": true,
        "id": "rtq8-60K1ad3"
      },
      "execution_count": null,
      "outputs": []
    },
    {
      "cell_type": "code",
      "source": [
        "df = df.drop(['kurt','skew'],axis=1)"
      ],
      "metadata": {
        "execution": {
          "iopub.status.busy": "2022-10-30T07:43:20.372791Z",
          "iopub.execute_input": "2022-10-30T07:43:20.37319Z",
          "iopub.status.idle": "2022-10-30T07:43:20.38119Z",
          "shell.execute_reply.started": "2022-10-30T07:43:20.373147Z",
          "shell.execute_reply": "2022-10-30T07:43:20.379604Z"
        },
        "trusted": true,
        "id": "i4qwFueZ1ad3"
      },
      "execution_count": null,
      "outputs": []
    },
    {
      "cell_type": "markdown",
      "source": [
        "We removed both kurt and skew as it had too many outliers. It is bad for the training."
      ],
      "metadata": {
        "id": "0w8a14jK1ad3"
      }
    },
    {
      "cell_type": "code",
      "source": [
        "sns.boxplot(x=df['sd'],y=df.label)\n",
        "plt.show()\n",
        "sns.boxplot(x=df['IQR'],y=df.label)\n",
        "plt.show()"
      ],
      "metadata": {
        "execution": {
          "iopub.status.busy": "2022-10-30T07:43:20.38253Z",
          "iopub.execute_input": "2022-10-30T07:43:20.383304Z",
          "iopub.status.idle": "2022-10-30T07:43:20.830744Z",
          "shell.execute_reply.started": "2022-10-30T07:43:20.383265Z",
          "shell.execute_reply": "2022-10-30T07:43:20.829296Z"
        },
        "trusted": true,
        "id": "oTQfR7ai1ad4"
      },
      "execution_count": null,
      "outputs": []
    },
    {
      "cell_type": "code",
      "source": [
        "df = df.drop(['IQR'],axis=1)"
      ],
      "metadata": {
        "execution": {
          "iopub.status.busy": "2022-10-30T07:43:20.832159Z",
          "iopub.execute_input": "2022-10-30T07:43:20.832514Z",
          "iopub.status.idle": "2022-10-30T07:43:20.839404Z",
          "shell.execute_reply.started": "2022-10-30T07:43:20.832481Z",
          "shell.execute_reply": "2022-10-30T07:43:20.838123Z"
        },
        "trusted": true,
        "id": "_Ws6buQq1ad4"
      },
      "execution_count": null,
      "outputs": []
    },
    {
      "cell_type": "code",
      "source": [
        "sns.boxplot(x=df['sfm'],y=df.label)\n",
        "plt.show()\n",
        "sns.boxplot(x=df['sp.ent'],y=df.label)\n",
        "plt.show()"
      ],
      "metadata": {
        "execution": {
          "iopub.status.busy": "2022-10-30T07:43:20.841165Z",
          "iopub.execute_input": "2022-10-30T07:43:20.841494Z",
          "iopub.status.idle": "2022-10-30T07:43:21.249159Z",
          "shell.execute_reply.started": "2022-10-30T07:43:20.841463Z",
          "shell.execute_reply": "2022-10-30T07:43:21.248114Z"
        },
        "trusted": true,
        "id": "x31ONyzR1ad4"
      },
      "execution_count": null,
      "outputs": []
    },
    {
      "cell_type": "code",
      "source": [
        "df = df.drop('sp.ent',axis=1)\n",
        "#We will remove sp.ent as it has more outliers"
      ],
      "metadata": {
        "execution": {
          "iopub.status.busy": "2022-10-30T07:43:21.250666Z",
          "iopub.execute_input": "2022-10-30T07:43:21.251062Z",
          "iopub.status.idle": "2022-10-30T07:43:21.256598Z",
          "shell.execute_reply.started": "2022-10-30T07:43:21.25103Z",
          "shell.execute_reply": "2022-10-30T07:43:21.255541Z"
        },
        "trusted": true,
        "id": "qSt_pCcZ1ad4"
      },
      "execution_count": null,
      "outputs": []
    },
    {
      "cell_type": "code",
      "source": [
        "sns.pairplot(df,kind = 'boxplot',hue='label')\n",
        "plt.show()"
      ],
      "metadata": {
        "execution": {
          "iopub.status.busy": "2022-10-30T07:43:21.258038Z",
          "iopub.execute_input": "2022-10-30T07:43:21.258575Z",
          "iopub.status.idle": "2022-10-30T07:43:45.999913Z",
          "shell.execute_reply.started": "2022-10-30T07:43:21.258541Z",
          "shell.execute_reply": "2022-10-30T07:43:45.99867Z"
        },
        "trusted": true,
        "id": "7ZuGpjtN1ad4"
      },
      "execution_count": null,
      "outputs": []
    },
    {
      "cell_type": "code",
      "source": [
        "df = df.drop(['maxfun','modindx','minfun'],axis=1)\n",
        "#these columns have too many outliers"
      ],
      "metadata": {
        "execution": {
          "iopub.status.busy": "2022-10-30T07:43:46.001844Z",
          "iopub.execute_input": "2022-10-30T07:43:46.002677Z",
          "iopub.status.idle": "2022-10-30T07:43:46.008476Z",
          "shell.execute_reply.started": "2022-10-30T07:43:46.002628Z",
          "shell.execute_reply": "2022-10-30T07:43:46.007499Z"
        },
        "trusted": true,
        "id": "-2gDOktG1ad4"
      },
      "execution_count": null,
      "outputs": []
    },
    {
      "cell_type": "code",
      "source": [
        "corr = df.corr()\n",
        "corr = corr[corr>0.85]\n",
        "plt.figure(figsize=(5,5))\n",
        "sns.heatmap(corr,annot = True,cmap='coolwarm')\n",
        "plt.show()"
      ],
      "metadata": {
        "execution": {
          "iopub.status.busy": "2022-10-30T07:43:46.009579Z",
          "iopub.execute_input": "2022-10-30T07:43:46.010561Z",
          "iopub.status.idle": "2022-10-30T07:43:46.323945Z",
          "shell.execute_reply.started": "2022-10-30T07:43:46.010524Z",
          "shell.execute_reply": "2022-10-30T07:43:46.323085Z"
        },
        "trusted": true,
        "id": "_LqaDEC11ad4"
      },
      "execution_count": null,
      "outputs": []
    },
    {
      "cell_type": "markdown",
      "source": [
        "# Train-Test Split"
      ],
      "metadata": {
        "id": "noSbuRIw1ad4"
      }
    },
    {
      "cell_type": "code",
      "source": [
        "from sklearn.model_selection import train_test_split"
      ],
      "metadata": {
        "execution": {
          "iopub.status.busy": "2022-10-30T07:43:46.325255Z",
          "iopub.execute_input": "2022-10-30T07:43:46.32593Z",
          "iopub.status.idle": "2022-10-30T07:43:46.331185Z",
          "shell.execute_reply.started": "2022-10-30T07:43:46.325886Z",
          "shell.execute_reply": "2022-10-30T07:43:46.330079Z"
        },
        "trusted": true,
        "id": "V1yEmej-1ad4"
      },
      "execution_count": null,
      "outputs": []
    },
    {
      "cell_type": "code",
      "source": [
        "X = df.iloc[:,:-1]\n",
        "y = df.label"
      ],
      "metadata": {
        "execution": {
          "iopub.status.busy": "2022-10-30T07:43:46.332777Z",
          "iopub.execute_input": "2022-10-30T07:43:46.333153Z",
          "iopub.status.idle": "2022-10-30T07:43:46.346116Z",
          "shell.execute_reply.started": "2022-10-30T07:43:46.333118Z",
          "shell.execute_reply": "2022-10-30T07:43:46.345017Z"
        },
        "trusted": true,
        "id": "-CIFoilR1ad5"
      },
      "execution_count": null,
      "outputs": []
    },
    {
      "cell_type": "code",
      "source": [
        "X_train,x_test,y_train,y_test = train_test_split(X,y,test_size=0.2,random_state = 1)"
      ],
      "metadata": {
        "execution": {
          "iopub.status.busy": "2022-10-30T07:43:46.347634Z",
          "iopub.execute_input": "2022-10-30T07:43:46.348053Z",
          "iopub.status.idle": "2022-10-30T07:43:46.359563Z",
          "shell.execute_reply.started": "2022-10-30T07:43:46.34802Z",
          "shell.execute_reply": "2022-10-30T07:43:46.358429Z"
        },
        "trusted": true,
        "id": "ib1WwGrU1ad5"
      },
      "execution_count": null,
      "outputs": []
    },
    {
      "cell_type": "markdown",
      "source": [
        "# Metric Functions"
      ],
      "metadata": {
        "id": "rgWePkDQ1ad5"
      }
    },
    {
      "cell_type": "code",
      "source": [
        "from sklearn.metrics import classification_report,confusion_matrix"
      ],
      "metadata": {
        "execution": {
          "iopub.status.busy": "2022-10-30T07:43:46.360947Z",
          "iopub.execute_input": "2022-10-30T07:43:46.361384Z",
          "iopub.status.idle": "2022-10-30T07:43:46.369506Z",
          "shell.execute_reply.started": "2022-10-30T07:43:46.361351Z",
          "shell.execute_reply": "2022-10-30T07:43:46.36842Z"
        },
        "trusted": true,
        "id": "ItDjQzTc1ad5"
      },
      "execution_count": null,
      "outputs": []
    },
    {
      "cell_type": "code",
      "source": [
        "def eval(y_pred,ytest):\n",
        "    print(\"Confusion matrix:\\n\")\n",
        "    cm = confusion_matrix(y_pred,ytest)\n",
        "    sns.heatmap(cm,annot = True,xticklabels=[\"Female\",\"Male\"],yticklabels=[\"Female\",\"Male\"])\n",
        "    plt.show()\n",
        "    print(\"Classification Report\\n\",classification_report(y_pred,ytest))"
      ],
      "metadata": {
        "execution": {
          "iopub.status.busy": "2022-10-30T07:54:14.352536Z",
          "iopub.execute_input": "2022-10-30T07:54:14.352964Z",
          "iopub.status.idle": "2022-10-30T07:54:14.359559Z",
          "shell.execute_reply.started": "2022-10-30T07:54:14.352926Z",
          "shell.execute_reply": "2022-10-30T07:54:14.358295Z"
        },
        "trusted": true,
        "id": "lv5wFrKz1ad5"
      },
      "execution_count": null,
      "outputs": []
    },
    {
      "cell_type": "code",
      "source": [
        "def score(model):\n",
        "    print(\"Training score: \",model.score(X_train,y_train))\n",
        "    print(\"Test score: \",model.score(x_test,y_test))"
      ],
      "metadata": {
        "execution": {
          "iopub.status.busy": "2022-10-30T07:43:46.384577Z",
          "iopub.execute_input": "2022-10-30T07:43:46.385003Z",
          "iopub.status.idle": "2022-10-30T07:43:46.395568Z",
          "shell.execute_reply.started": "2022-10-30T07:43:46.384926Z",
          "shell.execute_reply": "2022-10-30T07:43:46.394426Z"
        },
        "trusted": true,
        "id": "4R16o5hA1ad5"
      },
      "execution_count": null,
      "outputs": []
    },
    {
      "cell_type": "markdown",
      "source": [
        "# 1) DecisionTreeClassifier"
      ],
      "metadata": {
        "id": "KLIuY34Q1ad5"
      }
    },
    {
      "cell_type": "code",
      "source": [
        "from sklearn.tree import DecisionTreeClassifier"
      ],
      "metadata": {
        "execution": {
          "iopub.status.busy": "2022-10-30T07:43:46.396924Z",
          "iopub.execute_input": "2022-10-30T07:43:46.397312Z",
          "iopub.status.idle": "2022-10-30T07:43:46.410753Z",
          "shell.execute_reply.started": "2022-10-30T07:43:46.397281Z",
          "shell.execute_reply": "2022-10-30T07:43:46.409826Z"
        },
        "trusted": true,
        "id": "fM4AQUpK1ad5"
      },
      "execution_count": null,
      "outputs": []
    },
    {
      "cell_type": "code",
      "source": [
        "DTmodel = DecisionTreeClassifier(min_samples_split = 5,max_depth = 10,random_state = 0)"
      ],
      "metadata": {
        "execution": {
          "iopub.status.busy": "2022-10-30T07:43:46.412206Z",
          "iopub.execute_input": "2022-10-30T07:43:46.412531Z",
          "iopub.status.idle": "2022-10-30T07:43:46.423218Z",
          "shell.execute_reply.started": "2022-10-30T07:43:46.4125Z",
          "shell.execute_reply": "2022-10-30T07:43:46.422201Z"
        },
        "trusted": true,
        "id": "oFkoMWZ81ad5"
      },
      "execution_count": null,
      "outputs": []
    },
    {
      "cell_type": "code",
      "source": [
        "DTmodel.fit(X_train,y_train)"
      ],
      "metadata": {
        "execution": {
          "iopub.status.busy": "2022-10-30T07:43:46.430875Z",
          "iopub.execute_input": "2022-10-30T07:43:46.431302Z",
          "iopub.status.idle": "2022-10-30T07:43:46.464915Z",
          "shell.execute_reply.started": "2022-10-30T07:43:46.431257Z",
          "shell.execute_reply": "2022-10-30T07:43:46.46384Z"
        },
        "trusted": true,
        "id": "ii4QBjpN1aeA"
      },
      "execution_count": null,
      "outputs": []
    },
    {
      "cell_type": "code",
      "source": [
        "ypred1 = DTmodel.predict(x_test)\n",
        "ypred1[:5]"
      ],
      "metadata": {
        "execution": {
          "iopub.status.busy": "2022-10-30T07:43:46.466329Z",
          "iopub.execute_input": "2022-10-30T07:43:46.466671Z",
          "iopub.status.idle": "2022-10-30T07:43:46.475885Z",
          "shell.execute_reply.started": "2022-10-30T07:43:46.46664Z",
          "shell.execute_reply": "2022-10-30T07:43:46.47461Z"
        },
        "trusted": true,
        "id": "cCn2i6re1aeA"
      },
      "execution_count": null,
      "outputs": []
    },
    {
      "cell_type": "code",
      "source": [
        "score(DTmodel)"
      ],
      "metadata": {
        "execution": {
          "iopub.status.busy": "2022-10-30T07:43:46.476912Z",
          "iopub.execute_input": "2022-10-30T07:43:46.477328Z",
          "iopub.status.idle": "2022-10-30T07:43:46.494784Z",
          "shell.execute_reply.started": "2022-10-30T07:43:46.477294Z",
          "shell.execute_reply": "2022-10-30T07:43:46.493946Z"
        },
        "trusted": true,
        "id": "zmiGjyc21aeA"
      },
      "execution_count": null,
      "outputs": []
    },
    {
      "cell_type": "code",
      "source": [
        "eval(ypred1,y_test)"
      ],
      "metadata": {
        "execution": {
          "iopub.status.busy": "2022-10-30T07:43:46.497955Z",
          "iopub.execute_input": "2022-10-30T07:43:46.498745Z",
          "iopub.status.idle": "2022-10-30T07:43:47.058945Z",
          "shell.execute_reply.started": "2022-10-30T07:43:46.498703Z",
          "shell.execute_reply": "2022-10-30T07:43:47.057583Z"
        },
        "trusted": true,
        "id": "wEabILX91aeA"
      },
      "execution_count": null,
      "outputs": []
    },
    {
      "cell_type": "markdown",
      "source": [
        "**Conclusion**: Slightly overfit model."
      ],
      "metadata": {
        "id": "rsimbMIM1aeA"
      }
    },
    {
      "cell_type": "markdown",
      "source": [
        "# 2) LogisticRegression"
      ],
      "metadata": {
        "id": "4e8jIDWK1aeA"
      }
    },
    {
      "cell_type": "code",
      "source": [
        "from sklearn.linear_model import LogisticRegression"
      ],
      "metadata": {
        "execution": {
          "iopub.status.busy": "2022-10-30T07:43:47.060821Z",
          "iopub.execute_input": "2022-10-30T07:43:47.061304Z",
          "iopub.status.idle": "2022-10-30T07:43:47.068307Z",
          "shell.execute_reply.started": "2022-10-30T07:43:47.061258Z",
          "shell.execute_reply": "2022-10-30T07:43:47.066887Z"
        },
        "trusted": true,
        "id": "tecoC9eP1aeA"
      },
      "execution_count": null,
      "outputs": []
    },
    {
      "cell_type": "code",
      "source": [
        "LRmodel = LogisticRegression(n_jobs=3,max_iter=1000,class_weight=0.001,random_state=0)"
      ],
      "metadata": {
        "execution": {
          "iopub.status.busy": "2022-10-30T07:43:47.069707Z",
          "iopub.execute_input": "2022-10-30T07:43:47.070404Z",
          "iopub.status.idle": "2022-10-30T07:43:47.08108Z",
          "shell.execute_reply.started": "2022-10-30T07:43:47.070368Z",
          "shell.execute_reply": "2022-10-30T07:43:47.080084Z"
        },
        "trusted": true,
        "id": "yfAvvwJh1aeA"
      },
      "execution_count": null,
      "outputs": []
    },
    {
      "cell_type": "code",
      "source": [
        "LRmodel.fit(X_train,y_train)"
      ],
      "metadata": {
        "execution": {
          "iopub.status.busy": "2022-10-30T07:43:47.08257Z",
          "iopub.execute_input": "2022-10-30T07:43:47.083196Z",
          "iopub.status.idle": "2022-10-30T07:43:47.756457Z",
          "shell.execute_reply.started": "2022-10-30T07:43:47.083161Z",
          "shell.execute_reply": "2022-10-30T07:43:47.755036Z"
        },
        "trusted": true,
        "id": "vb2sEMKa1aeA"
      },
      "execution_count": null,
      "outputs": []
    },
    {
      "cell_type": "code",
      "source": [
        "ypred2 = LRmodel.predict(x_test)"
      ],
      "metadata": {
        "execution": {
          "iopub.status.busy": "2022-10-30T07:43:47.759047Z",
          "iopub.execute_input": "2022-10-30T07:43:47.75981Z",
          "iopub.status.idle": "2022-10-30T07:43:47.768426Z",
          "shell.execute_reply.started": "2022-10-30T07:43:47.759765Z",
          "shell.execute_reply": "2022-10-30T07:43:47.767136Z"
        },
        "trusted": true,
        "id": "J1QFiMp61aeA"
      },
      "execution_count": null,
      "outputs": []
    },
    {
      "cell_type": "code",
      "source": [
        "score(LRmodel)"
      ],
      "metadata": {
        "execution": {
          "iopub.status.busy": "2022-10-30T07:43:47.770956Z",
          "iopub.execute_input": "2022-10-30T07:43:47.772091Z",
          "iopub.status.idle": "2022-10-30T07:43:47.797638Z",
          "shell.execute_reply.started": "2022-10-30T07:43:47.772026Z",
          "shell.execute_reply": "2022-10-30T07:43:47.796408Z"
        },
        "trusted": true,
        "id": "NTJ5yBTl1aeA"
      },
      "execution_count": null,
      "outputs": []
    },
    {
      "cell_type": "code",
      "source": [
        "eval(ypred2,y_test)"
      ],
      "metadata": {
        "execution": {
          "iopub.status.busy": "2022-10-30T07:43:47.799087Z",
          "iopub.execute_input": "2022-10-30T07:43:47.800226Z",
          "iopub.status.idle": "2022-10-30T07:43:48.047113Z",
          "shell.execute_reply.started": "2022-10-30T07:43:47.800176Z",
          "shell.execute_reply": "2022-10-30T07:43:48.045831Z"
        },
        "trusted": true,
        "id": "SioC2O3u1aeA"
      },
      "execution_count": null,
      "outputs": []
    },
    {
      "cell_type": "markdown",
      "source": [
        "**Conclusion**: Slightly inaccurate and underfit model with overall less training and test score."
      ],
      "metadata": {
        "id": "1zxqkser1aeB"
      }
    },
    {
      "cell_type": "markdown",
      "source": [
        "# 3) Support Vector Machine"
      ],
      "metadata": {
        "id": "kvVZ8wkl1aeB"
      }
    },
    {
      "cell_type": "code",
      "source": [
        "from sklearn.svm import SVC"
      ],
      "metadata": {
        "execution": {
          "iopub.status.busy": "2022-10-30T07:43:48.048729Z",
          "iopub.execute_input": "2022-10-30T07:43:48.049171Z",
          "iopub.status.idle": "2022-10-30T07:43:48.055356Z",
          "shell.execute_reply.started": "2022-10-30T07:43:48.049128Z",
          "shell.execute_reply": "2022-10-30T07:43:48.054142Z"
        },
        "trusted": true,
        "id": "pUgK6c3P1aeB"
      },
      "execution_count": null,
      "outputs": []
    },
    {
      "cell_type": "code",
      "source": [
        "SVMmodel = SVC(kernel = 'rbf', C=2.0,random_state=0,degree = 3)"
      ],
      "metadata": {
        "execution": {
          "iopub.status.busy": "2022-10-30T07:43:48.057136Z",
          "iopub.execute_input": "2022-10-30T07:43:48.057551Z",
          "iopub.status.idle": "2022-10-30T07:43:48.067216Z",
          "shell.execute_reply.started": "2022-10-30T07:43:48.057508Z",
          "shell.execute_reply": "2022-10-30T07:43:48.066197Z"
        },
        "trusted": true,
        "id": "Y7u_6A9I1aeB"
      },
      "execution_count": null,
      "outputs": []
    },
    {
      "cell_type": "code",
      "source": [
        "SVMmodel.fit(X_train,y_train)"
      ],
      "metadata": {
        "execution": {
          "iopub.status.busy": "2022-10-30T07:43:48.068554Z",
          "iopub.execute_input": "2022-10-30T07:43:48.069439Z",
          "iopub.status.idle": "2022-10-30T07:43:48.218061Z",
          "shell.execute_reply.started": "2022-10-30T07:43:48.069393Z",
          "shell.execute_reply": "2022-10-30T07:43:48.217127Z"
        },
        "trusted": true,
        "id": "gjBi40Na1aeB"
      },
      "execution_count": null,
      "outputs": []
    },
    {
      "cell_type": "code",
      "source": [
        "ypred3 = SVMmodel.predict(x_test)"
      ],
      "metadata": {
        "execution": {
          "iopub.status.busy": "2022-10-30T07:43:48.219327Z",
          "iopub.execute_input": "2022-10-30T07:43:48.220473Z",
          "iopub.status.idle": "2022-10-30T07:43:48.257039Z",
          "shell.execute_reply.started": "2022-10-30T07:43:48.220434Z",
          "shell.execute_reply": "2022-10-30T07:43:48.255738Z"
        },
        "trusted": true,
        "id": "2nPVmBa71aeB"
      },
      "execution_count": null,
      "outputs": []
    },
    {
      "cell_type": "code",
      "source": [
        "score(SVMmodel)"
      ],
      "metadata": {
        "execution": {
          "iopub.status.busy": "2022-10-30T07:43:48.25857Z",
          "iopub.execute_input": "2022-10-30T07:43:48.259119Z",
          "iopub.status.idle": "2022-10-30T07:43:48.423487Z",
          "shell.execute_reply.started": "2022-10-30T07:43:48.259054Z",
          "shell.execute_reply": "2022-10-30T07:43:48.422151Z"
        },
        "trusted": true,
        "id": "6u60ErMa1aeB"
      },
      "execution_count": null,
      "outputs": []
    },
    {
      "cell_type": "code",
      "source": [
        "eval(ypred3,y_test)"
      ],
      "metadata": {
        "execution": {
          "iopub.status.busy": "2022-10-30T07:43:48.424771Z",
          "iopub.execute_input": "2022-10-30T07:43:48.425127Z",
          "iopub.status.idle": "2022-10-30T07:43:48.620964Z",
          "shell.execute_reply.started": "2022-10-30T07:43:48.425094Z",
          "shell.execute_reply": "2022-10-30T07:43:48.620126Z"
        },
        "trusted": true,
        "id": "8h4cWo5Z1aeB"
      },
      "execution_count": null,
      "outputs": []
    },
    {
      "cell_type": "markdown",
      "source": [
        "**Conclusion**: Properly fit as both training and testing scores are approximately same."
      ],
      "metadata": {
        "id": "QSC83kmR1aeB"
      }
    },
    {
      "cell_type": "markdown",
      "source": [
        "# 4) K-Nearest Neighbors"
      ],
      "metadata": {
        "id": "2c-AjFky1aeB"
      }
    },
    {
      "cell_type": "code",
      "source": [
        "from sklearn.neighbors import KNeighborsClassifier"
      ],
      "metadata": {
        "execution": {
          "iopub.status.busy": "2022-10-30T07:43:48.622355Z",
          "iopub.execute_input": "2022-10-30T07:43:48.623428Z",
          "iopub.status.idle": "2022-10-30T07:43:48.627057Z",
          "shell.execute_reply.started": "2022-10-30T07:43:48.623371Z",
          "shell.execute_reply": "2022-10-30T07:43:48.626135Z"
        },
        "trusted": true,
        "id": "-B1kH4oS1aeB"
      },
      "execution_count": null,
      "outputs": []
    },
    {
      "cell_type": "code",
      "source": [
        "Kmodel = KNeighborsClassifier(n_neighbors = 4,metric ='minkowski',p=1,n_jobs=5,algorithm='ball_tree')"
      ],
      "metadata": {
        "execution": {
          "iopub.status.busy": "2022-10-30T07:43:48.628386Z",
          "iopub.execute_input": "2022-10-30T07:43:48.628881Z",
          "iopub.status.idle": "2022-10-30T07:43:48.641059Z",
          "shell.execute_reply.started": "2022-10-30T07:43:48.628849Z",
          "shell.execute_reply": "2022-10-30T07:43:48.639957Z"
        },
        "trusted": true,
        "id": "xDIrSIQf1aeB"
      },
      "execution_count": null,
      "outputs": []
    },
    {
      "cell_type": "code",
      "source": [
        "Kmodel.fit(X_train,y_train)"
      ],
      "metadata": {
        "execution": {
          "iopub.status.busy": "2022-10-30T07:43:48.642498Z",
          "iopub.execute_input": "2022-10-30T07:43:48.643148Z",
          "iopub.status.idle": "2022-10-30T07:43:48.661301Z",
          "shell.execute_reply.started": "2022-10-30T07:43:48.643113Z",
          "shell.execute_reply": "2022-10-30T07:43:48.660113Z"
        },
        "trusted": true,
        "id": "TkqSjf5M1aeB"
      },
      "execution_count": null,
      "outputs": []
    },
    {
      "cell_type": "code",
      "source": [
        "ypred4 = Kmodel.predict(x_test)"
      ],
      "metadata": {
        "execution": {
          "iopub.status.busy": "2022-10-30T07:43:48.662574Z",
          "iopub.execute_input": "2022-10-30T07:43:48.663003Z",
          "iopub.status.idle": "2022-10-30T07:43:48.792333Z",
          "shell.execute_reply.started": "2022-10-30T07:43:48.662963Z",
          "shell.execute_reply": "2022-10-30T07:43:48.790936Z"
        },
        "trusted": true,
        "id": "vvNvYeHM1aeC"
      },
      "execution_count": null,
      "outputs": []
    },
    {
      "cell_type": "code",
      "source": [
        "score(Kmodel)"
      ],
      "metadata": {
        "execution": {
          "iopub.status.busy": "2022-10-30T07:43:48.793792Z",
          "iopub.execute_input": "2022-10-30T07:43:48.794157Z",
          "iopub.status.idle": "2022-10-30T07:43:49.095339Z",
          "shell.execute_reply.started": "2022-10-30T07:43:48.794122Z",
          "shell.execute_reply": "2022-10-30T07:43:49.094106Z"
        },
        "trusted": true,
        "id": "hLonSeJ01aeC"
      },
      "execution_count": null,
      "outputs": []
    },
    {
      "cell_type": "code",
      "source": [
        "eval(ypred4,y_test)"
      ],
      "metadata": {
        "execution": {
          "iopub.status.busy": "2022-10-30T07:43:49.096671Z",
          "iopub.execute_input": "2022-10-30T07:43:49.096998Z",
          "iopub.status.idle": "2022-10-30T07:43:49.31176Z",
          "shell.execute_reply.started": "2022-10-30T07:43:49.096968Z",
          "shell.execute_reply": "2022-10-30T07:43:49.310564Z"
        },
        "trusted": true,
        "id": "iTGqOpbt1aeC"
      },
      "execution_count": null,
      "outputs": []
    },
    {
      "cell_type": "markdown",
      "source": [
        "**Conclusion** : Good training and testing accuracy"
      ],
      "metadata": {
        "id": "O7YiTJ1J1aeC"
      }
    },
    {
      "cell_type": "markdown",
      "source": [
        "# 5) Random Forest"
      ],
      "metadata": {
        "id": "JtrPbHg81aeC"
      }
    },
    {
      "cell_type": "code",
      "source": [
        "from sklearn.ensemble import RandomForestClassifier"
      ],
      "metadata": {
        "execution": {
          "iopub.status.busy": "2022-10-30T07:43:49.313376Z",
          "iopub.execute_input": "2022-10-30T07:43:49.31441Z",
          "iopub.status.idle": "2022-10-30T07:43:49.319705Z",
          "shell.execute_reply.started": "2022-10-30T07:43:49.314362Z",
          "shell.execute_reply": "2022-10-30T07:43:49.318483Z"
        },
        "trusted": true,
        "id": "TV2FNQxT1aeC"
      },
      "execution_count": null,
      "outputs": []
    },
    {
      "cell_type": "code",
      "source": [
        "RFmodel = RandomForestClassifier(n_estimators = 1000,max_depth = 11,n_jobs=5,criterion='gini',warm_start=True,min_samples_split=4,oob_score=True)"
      ],
      "metadata": {
        "execution": {
          "iopub.status.busy": "2022-10-30T07:43:49.32132Z",
          "iopub.execute_input": "2022-10-30T07:43:49.321682Z",
          "iopub.status.idle": "2022-10-30T07:43:49.334171Z",
          "shell.execute_reply.started": "2022-10-30T07:43:49.321651Z",
          "shell.execute_reply": "2022-10-30T07:43:49.332945Z"
        },
        "trusted": true,
        "id": "XiHoa1E11aeC"
      },
      "execution_count": null,
      "outputs": []
    },
    {
      "cell_type": "code",
      "source": [
        "RFmodel.fit(X_train,y_train)"
      ],
      "metadata": {
        "execution": {
          "iopub.status.busy": "2022-10-30T07:43:49.338007Z",
          "iopub.execute_input": "2022-10-30T07:43:49.3385Z",
          "iopub.status.idle": "2022-10-30T07:43:53.80529Z",
          "shell.execute_reply.started": "2022-10-30T07:43:49.338454Z",
          "shell.execute_reply": "2022-10-30T07:43:53.804098Z"
        },
        "trusted": true,
        "id": "rPbTdjeX1aeC"
      },
      "execution_count": null,
      "outputs": []
    },
    {
      "cell_type": "code",
      "source": [
        "ypred5 = RFmodel.predict(x_test)"
      ],
      "metadata": {
        "execution": {
          "iopub.status.busy": "2022-10-30T07:43:53.806494Z",
          "iopub.execute_input": "2022-10-30T07:43:53.806826Z",
          "iopub.status.idle": "2022-10-30T07:43:54.116657Z",
          "shell.execute_reply.started": "2022-10-30T07:43:53.806795Z",
          "shell.execute_reply": "2022-10-30T07:43:54.11548Z"
        },
        "trusted": true,
        "id": "ZXJ0StJH1aeC"
      },
      "execution_count": null,
      "outputs": []
    },
    {
      "cell_type": "code",
      "source": [
        "score(RFmodel)"
      ],
      "metadata": {
        "execution": {
          "iopub.status.busy": "2022-10-30T07:43:54.121312Z",
          "iopub.execute_input": "2022-10-30T07:43:54.121726Z",
          "iopub.status.idle": "2022-10-30T07:43:54.94514Z",
          "shell.execute_reply.started": "2022-10-30T07:43:54.121678Z",
          "shell.execute_reply": "2022-10-30T07:43:54.94392Z"
        },
        "trusted": true,
        "id": "lemaYSXs1aeC"
      },
      "execution_count": null,
      "outputs": []
    },
    {
      "cell_type": "code",
      "source": [
        "eval(ypred5,y_test)"
      ],
      "metadata": {
        "execution": {
          "iopub.status.busy": "2022-10-30T07:43:54.946458Z",
          "iopub.execute_input": "2022-10-30T07:43:54.947355Z",
          "iopub.status.idle": "2022-10-30T07:43:55.151162Z",
          "shell.execute_reply.started": "2022-10-30T07:43:54.947317Z",
          "shell.execute_reply": "2022-10-30T07:43:55.149754Z"
        },
        "trusted": true,
        "id": "2Jl062uE1aeC"
      },
      "execution_count": null,
      "outputs": []
    },
    {
      "cell_type": "code",
      "source": [
        "data = {'Dtree' : [0.99,0.96], 'LogReg' : [0.89,0.88], 'SVM':[0.96,0.95], 'Knn' : [0.97,0.96], 'RF' : [1.0 , 0.99]}"
      ],
      "metadata": {
        "execution": {
          "iopub.status.busy": "2023-02-13T04:29:56.717074Z",
          "iopub.execute_input": "2023-02-13T04:29:56.71751Z",
          "iopub.status.idle": "2023-02-13T04:29:56.72369Z",
          "shell.execute_reply.started": "2023-02-13T04:29:56.717478Z",
          "shell.execute_reply": "2023-02-13T04:29:56.72175Z"
        },
        "trusted": true,
        "id": "Sm00nQw61aeC"
      },
      "execution_count": null,
      "outputs": []
    },
    {
      "cell_type": "code",
      "source": [
        "import pandas as pd\n",
        "df = pd.DataFrame(data, index=['Accuracy on Train data', 'Accuracy on Test data'])"
      ],
      "metadata": {
        "execution": {
          "iopub.status.busy": "2023-02-13T04:29:57.013374Z",
          "iopub.execute_input": "2023-02-13T04:29:57.014154Z",
          "iopub.status.idle": "2023-02-13T04:29:57.019926Z",
          "shell.execute_reply.started": "2023-02-13T04:29:57.014123Z",
          "shell.execute_reply": "2023-02-13T04:29:57.018745Z"
        },
        "trusted": true,
        "id": "dJpCQpBd1aeC"
      },
      "execution_count": null,
      "outputs": []
    },
    {
      "cell_type": "code",
      "source": [
        "import seaborn as sns\n",
        "import matplotlib.pyplot as plt\n",
        "\n",
        "sns.lineplot(data=df)\n",
        "plt.show()"
      ],
      "metadata": {
        "execution": {
          "iopub.status.busy": "2023-02-13T04:33:49.845458Z",
          "iopub.execute_input": "2023-02-13T04:33:49.845812Z",
          "iopub.status.idle": "2023-02-13T04:33:50.042983Z",
          "shell.execute_reply.started": "2023-02-13T04:33:49.845785Z",
          "shell.execute_reply": "2023-02-13T04:33:50.041122Z"
        },
        "trusted": true,
        "id": "Tit_kwpd1aeC"
      },
      "execution_count": null,
      "outputs": []
    },
    {
      "cell_type": "markdown",
      "source": [
        "# Conclusion\n",
        "**Random Forest classifier** was proved to be the best classifier with only 13-15 missclassification in testing set."
      ],
      "metadata": {
        "id": "LFMBi1Ou1aeD"
      }
    },
    {
      "cell_type": "markdown",
      "source": [
        "> *If you have any query regarding any section of the code please do comment on the notebook! Thank you for viewing.*"
      ],
      "metadata": {
        "id": "q6K-QRXi1aeD"
      }
    },
    {
      "cell_type": "markdown",
      "source": [
        "# Thank You"
      ],
      "metadata": {
        "id": "5EGyhn_M1aeD"
      }
    }
  ]
}